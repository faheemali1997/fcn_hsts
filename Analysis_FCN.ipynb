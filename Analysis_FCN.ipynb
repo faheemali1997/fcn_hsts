{
  "nbformat": 4,
  "nbformat_minor": 0,
  "metadata": {
    "colab": {
      "name": "Analysis_FCN.ipynb",
      "provenance": [],
      "collapsed_sections": []
    },
    "kernelspec": {
      "name": "python3",
      "display_name": "Python 3"
    },
    "language_info": {
      "name": "python"
    }
  },
  "cells": [
    {
      "cell_type": "code",
      "metadata": {
        "id": "4gtfZpmqnE8C"
      },
      "source": [
        "import pandas as pd\n",
        "import seaborn as sns\n",
        "import matplotlib.pyplot as plt"
      ],
      "execution_count": 1,
      "outputs": []
    },
    {
      "cell_type": "code",
      "metadata": {
        "colab": {
          "base_uri": "https://localhost:8080/"
        },
        "id": "aAzHrMq7neo5",
        "outputId": "ebf5c660-cfc7-49bb-ce2e-7e274fde6802"
      },
      "source": [
        "\n",
        "from google.colab import drive\n",
        "drive.mount('/content/drive')"
      ],
      "execution_count": 2,
      "outputs": [
        {
          "output_type": "stream",
          "name": "stdout",
          "text": [
            "Mounted at /content/drive\n"
          ]
        }
      ]
    },
    {
      "cell_type": "code",
      "metadata": {
        "colab": {
          "base_uri": "https://localhost:8080/"
        },
        "id": "4YAmLJPYn0ST",
        "outputId": "4c41a68b-2294-4e6c-9a54-63829ec260cc"
      },
      "source": [
        "%cd /content/drive/MyDrive/FCN\\ Project"
      ],
      "execution_count": 3,
      "outputs": [
        {
          "output_type": "stream",
          "name": "stdout",
          "text": [
            "/content/drive/MyDrive/FCN Project\n"
          ]
        }
      ]
    },
    {
      "cell_type": "code",
      "metadata": {
        "id": "qgo0W8c1n_q-"
      },
      "source": [
        "df_mozilla = pd.read_csv('mozilla_pruned.csv')[:500]"
      ],
      "execution_count": 49,
      "outputs": []
    },
    {
      "cell_type": "code",
      "metadata": {
        "colab": {
          "base_uri": "https://localhost:8080/",
          "height": 423
        },
        "id": "SFjjag2j3NdL",
        "outputId": "5b2ff43c-a021-4169-c599-eb4091d220fa"
      },
      "source": [
        "df_mozilla"
      ],
      "execution_count": 50,
      "outputs": [
        {
          "output_type": "execute_result",
          "data": {
            "text/html": [
              "<div>\n",
              "<style scoped>\n",
              "    .dataframe tbody tr th:only-of-type {\n",
              "        vertical-align: middle;\n",
              "    }\n",
              "\n",
              "    .dataframe tbody tr th {\n",
              "        vertical-align: top;\n",
              "    }\n",
              "\n",
              "    .dataframe thead th {\n",
              "        text-align: right;\n",
              "    }\n",
              "</style>\n",
              "<table border=\"1\" class=\"dataframe\">\n",
              "  <thead>\n",
              "    <tr style=\"text-align: right;\">\n",
              "      <th></th>\n",
              "      <th>Domain Name</th>\n",
              "      <th>Page Load Time</th>\n",
              "      <th>Request Response Time</th>\n",
              "      <th>Page Render Time</th>\n",
              "      <th>isHSTSEnabled</th>\n",
              "      <th>Category</th>\n",
              "    </tr>\n",
              "  </thead>\n",
              "  <tbody>\n",
              "    <tr>\n",
              "      <th>0</th>\n",
              "      <td>aliexpress.com</td>\n",
              "      <td>4592</td>\n",
              "      <td>98</td>\n",
              "      <td>4585</td>\n",
              "      <td>1</td>\n",
              "      <td>Ecommerce</td>\n",
              "    </tr>\n",
              "    <tr>\n",
              "      <th>1</th>\n",
              "      <td>alibaba.com</td>\n",
              "      <td>3652</td>\n",
              "      <td>39</td>\n",
              "      <td>3570</td>\n",
              "      <td>1</td>\n",
              "      <td>Ecommerce</td>\n",
              "    </tr>\n",
              "    <tr>\n",
              "      <th>2</th>\n",
              "      <td>target.com</td>\n",
              "      <td>2802</td>\n",
              "      <td>63</td>\n",
              "      <td>2818</td>\n",
              "      <td>0</td>\n",
              "      <td>Ecommerce</td>\n",
              "    </tr>\n",
              "    <tr>\n",
              "      <th>3</th>\n",
              "      <td>lowes.com</td>\n",
              "      <td>2259</td>\n",
              "      <td>219</td>\n",
              "      <td>2234</td>\n",
              "      <td>1</td>\n",
              "      <td>Ecommerce</td>\n",
              "    </tr>\n",
              "    <tr>\n",
              "      <th>4</th>\n",
              "      <td>walmart.ca</td>\n",
              "      <td>2178</td>\n",
              "      <td>106</td>\n",
              "      <td>2183</td>\n",
              "      <td>0</td>\n",
              "      <td>Ecommerce</td>\n",
              "    </tr>\n",
              "    <tr>\n",
              "      <th>...</th>\n",
              "      <td>...</td>\n",
              "      <td>...</td>\n",
              "      <td>...</td>\n",
              "      <td>...</td>\n",
              "      <td>...</td>\n",
              "      <td>...</td>\n",
              "    </tr>\n",
              "    <tr>\n",
              "      <th>411</th>\n",
              "      <td>instagram.com</td>\n",
              "      <td>1266</td>\n",
              "      <td>572</td>\n",
              "      <td>1227</td>\n",
              "      <td>1</td>\n",
              "      <td>Social Media</td>\n",
              "    </tr>\n",
              "    <tr>\n",
              "      <th>412</th>\n",
              "      <td>facebook.com</td>\n",
              "      <td>946</td>\n",
              "      <td>140</td>\n",
              "      <td>883</td>\n",
              "      <td>1</td>\n",
              "      <td>Social Media</td>\n",
              "    </tr>\n",
              "    <tr>\n",
              "      <th>413</th>\n",
              "      <td>linkedin.com</td>\n",
              "      <td>487</td>\n",
              "      <td>138</td>\n",
              "      <td>485</td>\n",
              "      <td>0</td>\n",
              "      <td>Social Media</td>\n",
              "    </tr>\n",
              "    <tr>\n",
              "      <th>414</th>\n",
              "      <td>tumblr.com</td>\n",
              "      <td>924</td>\n",
              "      <td>22</td>\n",
              "      <td>921</td>\n",
              "      <td>1</td>\n",
              "      <td>Social Media</td>\n",
              "    </tr>\n",
              "    <tr>\n",
              "      <th>415</th>\n",
              "      <td>ziprecruiter.com</td>\n",
              "      <td>1052</td>\n",
              "      <td>213</td>\n",
              "      <td>1018</td>\n",
              "      <td>1</td>\n",
              "      <td>Social Media</td>\n",
              "    </tr>\n",
              "  </tbody>\n",
              "</table>\n",
              "<p>416 rows × 6 columns</p>\n",
              "</div>"
            ],
            "text/plain": [
              "          Domain Name  Page Load Time  ...  isHSTSEnabled      Category\n",
              "0      aliexpress.com            4592  ...              1     Ecommerce\n",
              "1         alibaba.com            3652  ...              1     Ecommerce\n",
              "2          target.com            2802  ...              0     Ecommerce\n",
              "3           lowes.com            2259  ...              1     Ecommerce\n",
              "4          walmart.ca            2178  ...              0     Ecommerce\n",
              "..                ...             ...  ...            ...           ...\n",
              "411     instagram.com            1266  ...              1  Social Media\n",
              "412      facebook.com             946  ...              1  Social Media\n",
              "413      linkedin.com             487  ...              0  Social Media\n",
              "414        tumblr.com             924  ...              1  Social Media\n",
              "415  ziprecruiter.com            1052  ...              1  Social Media\n",
              "\n",
              "[416 rows x 6 columns]"
            ]
          },
          "metadata": {},
          "execution_count": 50
        }
      ]
    },
    {
      "cell_type": "code",
      "metadata": {
        "id": "WiuAu4Mn3deb"
      },
      "source": [
        "x = df_mozilla.isHSTSEnabled.value_counts().reset_index(name=\"Count\")"
      ],
      "execution_count": 37,
      "outputs": []
    },
    {
      "cell_type": "code",
      "metadata": {
        "id": "slLo4AUh7YTF"
      },
      "source": [
        "x = x.rename(columns={'index':'isHSTSEnabled'})"
      ],
      "execution_count": 38,
      "outputs": []
    },
    {
      "cell_type": "code",
      "metadata": {
        "id": "DuhoXuGJ76NC"
      },
      "source": [
        "for i in range(len(x)):\n",
        "  if x.loc[i,\"isHSTSEnabled\"] == 0:\n",
        "    x.loc[i,\"isHSTSEnabled\"] =\"HSTS not Enabled\"\n",
        "  else:\n",
        "    x.loc[i,\"isHSTSEnabled\"] =\"HSTS Enabled\""
      ],
      "execution_count": 39,
      "outputs": []
    },
    {
      "cell_type": "code",
      "metadata": {
        "colab": {
          "base_uri": "https://localhost:8080/",
          "height": 515
        },
        "id": "fOUNpNKt8GrN",
        "outputId": "1809616d-5d22-4900-b201-747d441d9def"
      },
      "source": [
        "sns.barplot(x = 'isHSTSEnabled', y = 'Count' ,data=x)"
      ],
      "execution_count": 40,
      "outputs": [
        {
          "output_type": "execute_result",
          "data": {
            "text/plain": [
              "<matplotlib.axes._subplots.AxesSubplot at 0x7fe3c64fd6d0>"
            ]
          },
          "metadata": {},
          "execution_count": 40
        },
        {
          "output_type": "display_data",
          "data": {
            "image/png": "[encoded data removed]",
            "text/plain": [
              "<Figure size 432x576 with 1 Axes>"
            ]
          },
          "metadata": {
            "needs_background": "light"
          }
        }
      ]
    },
    {
      "cell_type": "code",
      "metadata": {
        "id": "ZGPrI5RmoqTB"
      },
      "source": [
        "colors = sns.color_palette('pastel')[0:2]"
      ],
      "execution_count": 41,
      "outputs": []
    },
    {
      "cell_type": "code",
      "metadata": {
        "id": "T-l6Sh99pAp9"
      },
      "source": [
        "\n",
        "data = [267,129]\n",
        "labels = ['HSTS not Enabled', 'HSTS Enabled']"
      ],
      "execution_count": 44,
      "outputs": []
    },
    {
      "cell_type": "code",
      "metadata": {
        "colab": {
          "base_uri": "https://localhost:8080/",
          "height": 366
        },
        "id": "HLAWppClovKM",
        "outputId": "20bc4221-2742-417d-f97d-d8983ec32048"
      },
      "source": [
        "\n",
        "plt.pie(data, labels = labels, colors = colors, autopct='%.0f%%')\n",
        "plt.show()"
      ],
      "execution_count": 45,
      "outputs": [
        {
          "output_type": "display_data",
          "data": {
            "image/png": "[encoded data removed]",
            "text/plain": [
              "<Figure size 432x576 with 1 Axes>"
            ]
          },
          "metadata": {}
        }
      ]
    },
    {
      "cell_type": "code",
      "metadata": {
        "colab": {
          "base_uri": "https://localhost:8080/",
          "height": 112
        },
        "id": "RreCaY8yBK-W",
        "outputId": "83f64ce8-4df5-460c-b18e-320b7e0fb837"
      },
      "source": [
        "df_chrome.groupby(['isHSTSEnabled']).mean().reset_index()"
      ],
      "execution_count": null,
      "outputs": [
        {
          "output_type": "execute_result",
          "data": {
            "text/html": [
              "<div>\n",
              "<style scoped>\n",
              "    .dataframe tbody tr th:only-of-type {\n",
              "        vertical-align: middle;\n",
              "    }\n",
              "\n",
              "    .dataframe tbody tr th {\n",
              "        vertical-align: top;\n",
              "    }\n",
              "\n",
              "    .dataframe thead th {\n",
              "        text-align: right;\n",
              "    }\n",
              "</style>\n",
              "<table border=\"1\" class=\"dataframe\">\n",
              "  <thead>\n",
              "    <tr style=\"text-align: right;\">\n",
              "      <th></th>\n",
              "      <th>isHSTSEnabled</th>\n",
              "      <th>Page Load Time</th>\n",
              "      <th>Request Response Time</th>\n",
              "      <th>Page Render Time</th>\n",
              "    </tr>\n",
              "  </thead>\n",
              "  <tbody>\n",
              "    <tr>\n",
              "      <th>0</th>\n",
              "      <td>0</td>\n",
              "      <td>3344.289474</td>\n",
              "      <td>308.823308</td>\n",
              "      <td>3396.289474</td>\n",
              "    </tr>\n",
              "    <tr>\n",
              "      <th>1</th>\n",
              "      <td>1</td>\n",
              "      <td>2857.577181</td>\n",
              "      <td>245.825503</td>\n",
              "      <td>2892.147651</td>\n",
              "    </tr>\n",
              "  </tbody>\n",
              "</table>\n",
              "</div>"
            ],
            "text/plain": [
              "   isHSTSEnabled  Page Load Time  Request Response Time  Page Render Time\n",
              "0              0     3344.289474             308.823308       3396.289474\n",
              "1              1     2857.577181             245.825503       2892.147651"
            ]
          },
          "metadata": {},
          "execution_count": 342
        }
      ]
    },
    {
      "cell_type": "code",
      "metadata": {
        "colab": {
          "base_uri": "https://localhost:8080/",
          "height": 112
        },
        "id": "V5ftXtDRDwKB",
        "outputId": "0a38c366-6cd3-4b22-9b7d-69d7f34a34b9"
      },
      "source": [
        "df_mozilla_new.groupby(['isHSTSEnabled']).mean().reset_index()"
      ],
      "execution_count": null,
      "outputs": [
        {
          "output_type": "execute_result",
          "data": {
            "text/html": [
              "<div>\n",
              "<style scoped>\n",
              "    .dataframe tbody tr th:only-of-type {\n",
              "        vertical-align: middle;\n",
              "    }\n",
              "\n",
              "    .dataframe tbody tr th {\n",
              "        vertical-align: top;\n",
              "    }\n",
              "\n",
              "    .dataframe thead th {\n",
              "        text-align: right;\n",
              "    }\n",
              "</style>\n",
              "<table border=\"1\" class=\"dataframe\">\n",
              "  <thead>\n",
              "    <tr style=\"text-align: right;\">\n",
              "      <th></th>\n",
              "      <th>isHSTSEnabled</th>\n",
              "      <th>Page Load Time</th>\n",
              "      <th>Request Response Time</th>\n",
              "      <th>Page Render Time</th>\n",
              "    </tr>\n",
              "  </thead>\n",
              "  <tbody>\n",
              "    <tr>\n",
              "      <th>0</th>\n",
              "      <td>0</td>\n",
              "      <td>1768.415730</td>\n",
              "      <td>227.801498</td>\n",
              "      <td>1781.074906</td>\n",
              "    </tr>\n",
              "    <tr>\n",
              "      <th>1</th>\n",
              "      <td>1</td>\n",
              "      <td>1579.932886</td>\n",
              "      <td>239.993289</td>\n",
              "      <td>1605.577181</td>\n",
              "    </tr>\n",
              "  </tbody>\n",
              "</table>\n",
              "</div>"
            ],
            "text/plain": [
              "   isHSTSEnabled  Page Load Time  Request Response Time  Page Render Time\n",
              "0              0     1768.415730             227.801498       1781.074906\n",
              "1              1     1579.932886             239.993289       1605.577181"
            ]
          },
          "metadata": {},
          "execution_count": 361
        }
      ]
    },
    {
      "cell_type": "code",
      "metadata": {
        "colab": {
          "base_uri": "https://localhost:8080/"
        },
        "id": "CvewQgBoKPx7",
        "outputId": "167413ce-5bc3-45ab-b0d2-9a6e796caa07"
      },
      "source": [
        "df_chrome_new.columns.to_list()"
      ],
      "execution_count": null,
      "outputs": [
        {
          "output_type": "execute_result",
          "data": {
            "text/plain": [
              "['Domain Name',\n",
              " 'Page Load Time',\n",
              " 'Request Response Time',\n",
              " 'Page Render Time',\n",
              " 'isHSTSEnabled']"
            ]
          },
          "metadata": {},
          "execution_count": 152
        }
      ]
    },
    {
      "cell_type": "code",
      "metadata": {
        "colab": {
          "base_uri": "https://localhost:8080/",
          "height": 112
        },
        "id": "aVF4YKAUH1yF",
        "outputId": "5cdec83f-5e16-4eca-be44-ae347d8addbe"
      },
      "source": [
        "df_mozilla.groupby(['isHSTSEnabled']).median().reset_index()"
      ],
      "execution_count": null,
      "outputs": [
        {
          "output_type": "execute_result",
          "data": {
            "text/html": [
              "<div>\n",
              "<style scoped>\n",
              "    .dataframe tbody tr th:only-of-type {\n",
              "        vertical-align: middle;\n",
              "    }\n",
              "\n",
              "    .dataframe tbody tr th {\n",
              "        vertical-align: top;\n",
              "    }\n",
              "\n",
              "    .dataframe thead th {\n",
              "        text-align: right;\n",
              "    }\n",
              "</style>\n",
              "<table border=\"1\" class=\"dataframe\">\n",
              "  <thead>\n",
              "    <tr style=\"text-align: right;\">\n",
              "      <th></th>\n",
              "      <th>isHSTSEnabled</th>\n",
              "      <th>Page Load Time</th>\n",
              "      <th>Request Response Time</th>\n",
              "      <th>Page Render Time</th>\n",
              "    </tr>\n",
              "  </thead>\n",
              "  <tbody>\n",
              "    <tr>\n",
              "      <th>0</th>\n",
              "      <td>0</td>\n",
              "      <td>1666</td>\n",
              "      <td>108</td>\n",
              "      <td>1669</td>\n",
              "    </tr>\n",
              "    <tr>\n",
              "      <th>1</th>\n",
              "      <td>1</td>\n",
              "      <td>1370</td>\n",
              "      <td>124</td>\n",
              "      <td>1403</td>\n",
              "    </tr>\n",
              "  </tbody>\n",
              "</table>\n",
              "</div>"
            ],
            "text/plain": [
              "   isHSTSEnabled  Page Load Time  Request Response Time  Page Render Time\n",
              "0              0            1666                    108              1669\n",
              "1              1            1370                    124              1403"
            ]
          },
          "metadata": {},
          "execution_count": 348
        }
      ]
    },
    {
      "cell_type": "code",
      "metadata": {
        "id": "60YcHcT9HxMt"
      },
      "source": [
        "plt.rcParams[\"figure.figsize\"] = (6,8)"
      ],
      "execution_count": 11,
      "outputs": []
    },
    {
      "cell_type": "code",
      "metadata": {
        "id": "x1Q2-TrU-xf0"
      },
      "source": [
        "def generateboxplot_of_df(df,browser):\n",
        "  df_long = pd.melt(df.loc[:, ~df.columns.isin(['Request Response Time', 'Domain Name','Category'])], \"isHSTSEnabled\", var_name=\"a\", value_name=\"c\")\n",
        "  p = sns.boxplot(x=\"a\", hue=\"isHSTSEnabled\", y=\"c\", data=df_long, showmeans=True)\n",
        "  p.legend_.set_title(None)\n",
        "  p.set_xlabel(\"Features\", fontsize = 10)\n",
        "  p.set_ylabel(\"Time (ms)\", fontsize = 10)\n",
        "  p.set_title(\"Box plot for features vs values for websites for {}\".format(browser), fontsize = 10)\n",
        "  plt.show()"
      ],
      "execution_count": 52,
      "outputs": []
    },
    {
      "cell_type": "code",
      "metadata": {
        "id": "kfiOVD8WSHA2"
      },
      "source": [
        "for i in range(len(df_mozilla)):\n",
        "  if df_mozilla.loc[i,\"isHSTSEnabled\"] == 0:\n",
        "    df_mozilla.loc[i,\"isHSTSEnabled\"] = \"HSTS not Enabled\"\n",
        "  else:\n",
        "    df_mozilla.loc[i,\"isHSTSEnabled\"] = \"HSTS Enabled\"\n"
      ],
      "execution_count": 63,
      "outputs": []
    },
    {
      "cell_type": "code",
      "metadata": {
        "colab": {
          "base_uri": "https://localhost:8080/",
          "height": 511
        },
        "id": "RwRfq2DmNpRt",
        "outputId": "252d8a94-c0d1-497f-f970-a937b828dca8"
      },
      "source": [
        "generateboxplot_of_df(df_mozilla,\"mozilla\")"
      ],
      "execution_count": 53,
      "outputs": [
        {
          "output_type": "display_data",
          "data": {
            "image/png": "[encoded data removed]",
            "text/plain": [
              "<Figure size 432x576 with 1 Axes>"
            ]
          },
          "metadata": {
            "needs_background": "light"
          }
        }
      ]
    },
    {
      "cell_type": "code",
      "metadata": {
        "id": "Ii6FH3sdvbFp"
      },
      "source": [
        "def category_graph(df):\n",
        "  dataframe = df.groupby(['Category','isHSTSEnabled']).median().reset_index()\n",
        "  p = sns.barplot(x='Category',y='Page Load Time',hue='isHSTSEnabled',data=dataframe)\n",
        "  p.legend_.set_title(None)\n",
        "  p.set_ylabel(\"Median Page Load Times (ms)\")\n",
        "  p.set_xlabel(\"Category\")\n",
        "  p.set_title(\"Median Page Load times vs Category of websites\")\n",
        "  plt.xticks(rotation=90)\n",
        "  "
      ],
      "execution_count": 54,
      "outputs": []
    },
    {
      "cell_type": "code",
      "metadata": {
        "colab": {
          "base_uri": "https://localhost:8080/",
          "height": 575
        },
        "id": "JBz7MGQOwJ8v",
        "outputId": "fde05d01-958f-4fc9-dc47-27e20f948a32"
      },
      "source": [
        "category_graph(df_mozilla)"
      ],
      "execution_count": 62,
      "outputs": [
        {
          "output_type": "display_data",
          "data": {
            "image/png": "[encoded data removed]",
            "text/plain": [
              "<Figure size 432x576 with 1 Axes>"
            ]
          },
          "metadata": {
            "needs_background": "light"
          }
        }
      ]
    },
    {
      "cell_type": "code",
      "metadata": {
        "id": "n3DaNRbSwLts"
      },
      "source": [
        "grp = df_mozilla.groupby(['Category','isHSTSEnabled']).size().reset_index()"
      ],
      "execution_count": 57,
      "outputs": []
    },
    {
      "cell_type": "code",
      "metadata": {
        "id": "THB9AROp42W6"
      },
      "source": [
        "grp.rename(columns={0:'Count'}, inplace=True)"
      ],
      "execution_count": 58,
      "outputs": []
    },
    {
      "cell_type": "code",
      "metadata": {
        "colab": {
          "base_uri": "https://localhost:8080/",
          "height": 593
        },
        "id": "_T4gHGSG5226",
        "outputId": "f7946083-afc6-4ee9-cbbe-31215360ae32"
      },
      "source": [
        "p = sns.barplot(x='Category',y='Count',hue='isHSTSEnabled', data=grp)\n",
        "p.set_ylabel(\"Count\")\n",
        "p.set_xlabel(\"Category\")\n",
        "p.legend_.set_title(None)\n",
        "p.set_title(\"Count vs Website Category\")\n",
        "plt.xticks(rotation=90)"
      ],
      "execution_count": 59,
      "outputs": [
        {
          "output_type": "execute_result",
          "data": {
            "text/plain": [
              "(array([0, 1, 2, 3, 4, 5]), <a list of 6 Text major ticklabel objects>)"
            ]
          },
          "metadata": {},
          "execution_count": 59
        },
        {
          "output_type": "display_data",
          "data": {
            "image/png": "[encoded data removed]",
            "text/plain": [
              "<Figure size 432x576 with 1 Axes>"
            ]
          },
          "metadata": {
            "needs_background": "light"
          }
        }
      ]
    },
    {
      "cell_type": "code",
      "metadata": {
        "id": "1wgqKS0f6HZo"
      },
      "source": [
        "def category_graph_page_render(df):\n",
        "  dataframe = df.groupby(['Category','isHSTSEnabled']).median().reset_index()\n",
        "  p = sns.barplot(x='Category',y='Page Render Time',hue='isHSTSEnabled',data=dataframe)\n",
        "  p.set_ylabel(\"Median Page Render Times (ms)\")\n",
        "  p.set_xlabel(\"Category\")\n",
        "  p.legend_.set_title(None)\n",
        "  p.set_title(\"Median Page Load times vs Category of websites\")\n",
        "  plt.xticks(rotation=90)"
      ],
      "execution_count": 60,
      "outputs": []
    },
    {
      "cell_type": "code",
      "metadata": {
        "colab": {
          "base_uri": "https://localhost:8080/",
          "height": 575
        },
        "id": "wqe10fcT8nHw",
        "outputId": "3d2f2a4d-c298-4c01-8898-53c873161e00"
      },
      "source": [
        "category_graph_page_render(df_mozilla)"
      ],
      "execution_count": 61,
      "outputs": [
        {
          "output_type": "display_data",
          "data": {
            "image/png": "[encoded data removed]",
            "text/plain": [
              "<Figure size 432x576 with 1 Axes>"
            ]
          },
          "metadata": {
            "needs_background": "light"
          }
        }
      ]
    },
    {
      "cell_type": "code",
      "metadata": {
        "id": "1rtEY3D68pip"
      },
      "source": [
        ""
      ],
      "execution_count": null,
      "outputs": []
    }
  ]
}